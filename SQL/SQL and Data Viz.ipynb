{
 "cells": [
  {
   "cell_type": "markdown",
   "id": "4cec8247",
   "metadata": {},
   "source": [
    "### Question: Explain the relationship between the tables."
   ]
  },
  {
   "cell_type": "markdown",
   "id": "58ab5020",
   "metadata": {},
   "source": [
    "Loans table have on column user_id, which is a Foreign key. User_id is a Primary key of Clients table\n",
    "If we want to create a loan entry for any user in Loans table then that user should exist in Clients table."
   ]
  },
  {
   "cell_type": "markdown",
   "id": "596d33ee",
   "metadata": {},
   "source": [
    "### Question: Identify the best month in terms of loan issuance. What was the quantity and amount lent in each month?"
   ]
  },
  {
   "cell_type": "markdown",
   "id": "059387af",
   "metadata": {},
   "source": [
    "SQL Query : \n",
    "\n",
    "```\n",
    "with cte as (select \n",
    "    extract(year from created_at) as years,\n",
    "    extract(month from created_at) as months,\n",
    "    count(user_id) as cnt,\n",
    "    sum(loan_amount) as total_loan_amount,\n",
    "    sum(due_amount - (loan_amount + tax)) as expected_earning\n",
    "    from loans \n",
    "    group by years, months\n",
    ")\n",
    "select * , 100*expected_earning/total_loan_amount as per from cte;\n",
    "```"
   ]
  },
  {
   "cell_type": "code",
   "execution_count": null,
   "id": "16124dab",
   "metadata": {},
   "outputs": [],
   "source": []
  },
  {
   "cell_type": "markdown",
   "id": "113db09c",
   "metadata": {},
   "source": [
    "##### Best month is  Dec 2023, most number of loan is issued and highest loan amount issued."
   ]
  },
  {
   "cell_type": "markdown",
   "id": "9a85f395",
   "metadata": {},
   "source": [
    "### Question: Determine which batch had the best overall adherence?"
   ]
  },
  {
   "cell_type": "markdown",
   "id": "e832564c",
   "metadata": {},
   "source": [
    "SQL Query:\n",
    "```\n",
    "with cte as (\n",
    "    select batch, count(l.loan_id) as loan_issued, \n",
    "    count(case when l.status = 'default' then 1 else null end) as default_cnt, \n",
    "    count(case when l.status = 'paid' then 1 else null end) as paid_cnt, \n",
    "    count(case when l.status = 'ongoing' then 1 else null end) as ongoing_cnt, \n",
    "    sum(loan_amount) as issued_amount,\n",
    "    sum(case when l.status = 'default' then loan_amount else 0 end)as default_amount, \n",
    "    sum(case when l.status = 'paid' then loan_amount else 0 end)as paid_amount, \n",
    "    sum(case when l.status = 'ongoing' then loan_amount else 0 end)as ongoing_amount\n",
    "    from clients c join loans l\n",
    "    on c.user_id = l.user_id\n",
    "    group by batch\n",
    ")\n",
    "select * , \n",
    "default_amount*100.0/issued_amount as default_rate_amount,\n",
    "paid_amount*100.0/issued_amount as paid_rate_amount,\n",
    "ongoing_amount*100.0/issued_amount as ongoing_rate_amount,\n",
    "default_cnt*100.0/loan_issued as default_rate,\n",
    "paid_cnt*100.0/loan_issued as paid_rate,\n",
    "ongoing_cnt*100.0/loan_issued as ongoing_rate\n",
    "from cte;\n",
    "\n",
    "```"
   ]
  },
  {
   "cell_type": "markdown",
   "id": "e8102f73",
   "metadata": {},
   "source": [
    "##### Batch 3 has best overall adhereance with lowest default rate"
   ]
  },
  {
   "cell_type": "markdown",
   "id": "ffd66c81",
   "metadata": {},
   "source": [
    "### Question: Do different interest rates lead to different loan outcomes in terms of default rate?"
   ]
  },
  {
   "cell_type": "markdown",
   "id": "6f83074d",
   "metadata": {},
   "source": [
    "SQL Query:\n",
    "```\n",
    "select interest_rate, count(l.loan_id) as loan_issued, \n",
    "count(case when l.status = 'default' then 1 else null end) as default_cnt,\n",
    "count(case when l.status = 'default' then 1 else null end)*100.0/count(l.loan_id) as default_rate\n",
    "from clients c join loans l\n",
    "on c.user_id = l.user_id\n",
    "group by interest_rate;\n",
    "```"
   ]
  },
  {
   "cell_type": "markdown",
   "id": "e44ba618",
   "metadata": {},
   "source": [
    "##### These is differest in default rate based on interest rate but difference is very small. Lowers interest rate have lowest default rate"
   ]
  },
  {
   "cell_type": "markdown",
   "id": "84a5f09b",
   "metadata": {},
   "source": [
    "### Question : Rank the best 10 and 10 worst clients. Explain your methodology for constructing this ranking."
   ]
  },
  {
   "cell_type": "markdown",
   "id": "7f1fc0df",
   "metadata": {},
   "source": [
    "##### To find the top 10 best client:\n",
    "```\n",
    "\n",
    "Here I am creating one score for all the clients base 3 factors:\n",
    "    - Loan Amount paid taken\n",
    "    - repayment ratio i.e. paid_amount/loan_amount\n",
    "    - how quick they pay the money back.\n",
    "As irrespective of the how quick they pay the loan back , they need to pay the full interest for 90 days. Then if some one returning the money in 20 days instead of 90 days, we can use that money to give loan again.\n",
    "Weight of there three factor in score is :\n",
    "    - Loan Amount paid taken - 0.5\n",
    "    - repayment ratio- 0.2\n",
    "    - how quick they pay the money back. - 0.3\n",
    "```"
   ]
  },
  {
   "cell_type": "markdown",
   "id": "688034f9",
   "metadata": {},
   "source": [
    "SQL query:\n",
    "```\n",
    "with cte as (\n",
    "    select c.user_id, count(loan_id) as cnt, sum(loan_amount) as total_due_amount, \n",
    "        sum(case when l.status = 'paid' then amount_paid else 0 end) as total_paid_amount,\n",
    "        sum(case when l.status = 'paid' then amount_paid else 0 end)/sum(loan_amount) as repayment_ratio,\n",
    "        extract(day from avg(paid_at - l.created_at)) as diff\n",
    "    from clients c join loans l\n",
    "    on c.user_id = l.user_id\n",
    "    where c.status = 'approved'\n",
    "    group by c.user_id\n",
    "),\n",
    "normalized_data as (\n",
    "    select *, \n",
    "    ((total_paid_amount - min(total_paid_amount) over()) / (max(total_paid_amount) over() - min(total_paid_amount) over()))  as paid_amount_normalize,\n",
    "    ((repayment_ratio - min(repayment_ratio) over()) / (max(repayment_ratio) over() - min(repayment_ratio) over()))  as repayment_ratio_normalize ,\n",
    "    ((max(diff) over() - diff) / (max(diff) over() - min(diff) over()))  as diff_normalize \n",
    "    from cte\n",
    "    where diff is not null\n",
    ")\n",
    "select user_id,round(cast(total_paid_amount as numeric), 2), round(cast(repayment_ratio as numeric), 2), diff as avg_return_time,\n",
    "round(cast(((0.5*paid_amount_normalize) + (0.3*diff_normalize) + (0.2*repayment_ratio_normalize)) as numeric), 2) as score\n",
    "from normalized_data\n",
    "order by score  desc limit 10;\n",
    "```\n"
   ]
  },
  {
   "cell_type": "markdown",
   "id": "a7575001",
   "metadata": {},
   "source": [
    "##### To find the 10 worst client:\n",
    "I am checking for those who have the largest unpaid due_amount and are marked as defaulters because these are the clients that contributed to losses for the company"
   ]
  },
  {
   "cell_type": "markdown",
   "id": "7c701094",
   "metadata": {},
   "source": [
    "SQL Query:\n",
    "```\n",
    "select c.user_id , sum(due_amount - amount_paid) as unpaid_amount\n",
    "from clients c join loans l\n",
    "on c.user_id = l.user_id\n",
    "where l.status = 'default'\n",
    "group by c.user_id\n",
    "order by unpaid_amount desc limit 10;\n",
    "```"
   ]
  },
  {
   "cell_type": "markdown",
   "id": "2cb796f6",
   "metadata": {},
   "source": [
    "### Question: What is the default rate by month and by batch?"
   ]
  },
  {
   "cell_type": "markdown",
   "id": "084d930b",
   "metadata": {},
   "source": [
    "##### Default rate by batch"
   ]
  },
  {
   "cell_type": "markdown",
   "id": "fa0d9414",
   "metadata": {},
   "source": [
    "SQL query:\n",
    "```\n",
    "select c.batch, count(l.loan_id) as loan_issued, \n",
    "count(case when l.status = 'default' then 1 else null end) as default_cnt,\n",
    "count(case when l.status = 'default' then 1 else null end)*100.0/count(l.loan_id) as default_rate\n",
    "from clients c join loans l\n",
    "on c.user_id = l.user_id\n",
    "group by c.batch;\n",
    "```"
   ]
  },
  {
   "cell_type": "markdown",
   "id": "e790e2ee",
   "metadata": {},
   "source": [
    "##### Default rate by month"
   ]
  },
  {
   "cell_type": "markdown",
   "id": "b9c2e227",
   "metadata": {},
   "source": [
    "SQL query:\n",
    "```\n",
    "select extract(year from l.created_at) as years,\n",
    "extract(month from l.created_at) as months, count(l.loan_id) as loan_issued, \n",
    "count(case when l.status = 'default' then 1 else null end) as default_cnt,\n",
    "count(case when l.status = 'default' then 1 else null end)*100.0/count(l.loan_id) as default_rate\n",
    "from clients c join loans l\n",
    "on c.user_id = l.user_id\n",
    "group by years, months;\n",
    "```"
   ]
  },
  {
   "cell_type": "markdown",
   "id": "121484f6",
   "metadata": {},
   "source": [
    "### Question: Assess the profitability of this operation. Provide an analysis of the operation's timeline."
   ]
  },
  {
   "cell_type": "markdown",
   "id": "ff7bc349",
   "metadata": {},
   "source": [
    "SQL Query:\n",
    "```\n",
    "with cte as (\n",
    "    select \n",
    "    extract(year from created_at) as years,\n",
    "    extract(month from created_at) as months,\n",
    "    count(user_id) as cnt,\n",
    "    sum(loan_amount) as total_loan_amount,\n",
    "    sum(amount_paid) as total_amount_paid,\n",
    "    sum(amount_paid - (loan_amount + tax)) as total_earning,\n",
    "    sum(case when status = 'default' then due_amount else 0 end) as default_amount\n",
    "    from loans \n",
    "    group by years, months\n",
    "),\n",
    "with_lags as (select *,lag(total_loan_amount) over(order by years, months) as previous_month, \n",
    "\t\t\t  (100*total_earning/total_loan_amount)as earning_rate\n",
    "\t\t\t  from cte\n",
    ")\n",
    "\n",
    "select years, months, cnt as Numeber_of_loan_issued, round(CAST(total_loan_amount as numeric), 2) as total_loan_amoun,\n",
    "round(CAST(default_amount as numeric), 2) as default_amount, \n",
    "round(CAST(total_amount_paid as numeric), 2) as total_amound_paid,\n",
    "round(CAST(total_earning as numeric), 2) as total_earning,\n",
    "round(CAST(earning_rate as numeric), 2) as earning_rate,  \n",
    "round(CAST(((total_loan_amount -  previous_month)*100/previous_month) as numeric), 2) as growth_percentage\n",
    "from with_lags;\n",
    "```"
   ]
  },
  {
   "cell_type": "markdown",
   "id": "2fa3b0e7",
   "metadata": {},
   "source": [
    "##### Profit are very small generly between 4-7%. Need to work on how to reduce the default rate as we can see 13% default rate."
   ]
  },
  {
   "cell_type": "markdown",
   "id": "a600fef2",
   "metadata": {},
   "source": [
    "##### Over total loan amount disbursed is growing by more then 150% every year."
   ]
  },
  {
   "cell_type": "code",
   "execution_count": null,
   "id": "ea13b642",
   "metadata": {},
   "outputs": [],
   "source": []
  }
 ],
 "metadata": {
  "kernelspec": {
   "display_name": "Python 3",
   "language": "python",
   "name": "python3"
  },
  "language_info": {
   "codemirror_mode": {
    "name": "ipython",
    "version": 3
   },
   "file_extension": ".py",
   "mimetype": "text/x-python",
   "name": "python",
   "nbconvert_exporter": "python",
   "pygments_lexer": "ipython3",
   "version": "3.8.8"
  }
 },
 "nbformat": 4,
 "nbformat_minor": 5
}
