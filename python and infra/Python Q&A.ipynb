{
 "cells": [
  {
   "cell_type": "code",
   "execution_count": 2,
   "id": "4d17c1b7",
   "metadata": {},
   "outputs": [],
   "source": []
  },
  {
   "cell_type": "markdown",
   "id": "de2c490e",
   "metadata": {},
   "source": [
    "## Question : Develop functions to add and alter users in the clients table in a safe way."
   ]
  },
  {
   "cell_type": "markdown",
   "id": "5b55ac32",
   "metadata": {},
   "source": [
    "For this I created one Database Class in database_service.py file, and created method to add and update users in client table.\n",
    "Please look database_service.py file to see the implementation"
   ]
  },
  {
   "cell_type": "code",
   "execution_count": 3,
   "id": "ba1b0674",
   "metadata": {},
   "outputs": [],
   "source": [
    "from database_service import Database"
   ]
  },
  {
   "cell_type": "code",
   "execution_count": 4,
   "id": "4744c66c",
   "metadata": {},
   "outputs": [
    {
     "name": "stdout",
     "output_type": "stream",
     "text": [
      "{'db': {'database': 'cloudwalk', 'user': 'postgres', 'host': 'localhost', 'password': '12345678', 'port': 5432}, 'mail': {'SMTP_HOST': 'smtp.gmail.com', 'SMTP_PORT': 587, 'SMTP_USERNAME': 'brotherteach59@gmail.com', 'SMTP_PASSWORD': 'bcdjaienbpzpsnfp', 'SENDER_EMAIL': 'brotherteach59@gmail.com'}}\n"
     ]
    }
   ],
   "source": [
    "data = json.load(open('config.json'))\n",
    "print(data)\n",
    "config = data[\"db\"]"
   ]
  },
  {
   "cell_type": "markdown",
   "id": "6c51ab0d",
   "metadata": {},
   "source": [
    "Have this config.json file which store database configration and email server configration"
   ]
  },
  {
   "cell_type": "code",
   "execution_count": 8,
   "id": "3b622fa7",
   "metadata": {},
   "outputs": [],
   "source": [
    "#### Insert new user in Clients table"
   ]
  },
  {
   "cell_type": "code",
   "execution_count": 7,
   "id": "4155c406",
   "metadata": {},
   "outputs": [
    {
     "name": "stdout",
     "output_type": "stream",
     "text": [
      "User with ID 12344321 added successfully.\n"
     ]
    }
   ],
   "source": [
    "db = Database(config)\n",
    "db.get_connection()\n",
    "db.add_new_user(user_id = 12344321, status=\"approved\", batch=1, credit_limit=12000, interest_rate=20)"
   ]
  },
  {
   "cell_type": "code",
   "execution_count": 9,
   "id": "d2e5fe68",
   "metadata": {},
   "outputs": [],
   "source": [
    "#### Update user details in clients table"
   ]
  },
  {
   "cell_type": "code",
   "execution_count": 11,
   "id": "d586e462",
   "metadata": {},
   "outputs": [
    {
     "name": "stdout",
     "output_type": "stream",
     "text": [
      "Details for user with ID 12344321 updated successfully.\n"
     ]
    }
   ],
   "source": [
    "db.update_user_details(user_id=12344321, status=\"denied\", credit_limit=12000, interest_rate = 20, denied_reason=\"Defaulter\")"
   ]
  },
  {
   "cell_type": "markdown",
   "id": "d68117d9",
   "metadata": {},
   "source": [
    "## Question : Develop an automated email service to remind users with ongoing loans about payments. Select the frequency and content as you see fit."
   ]
  },
  {
   "cell_type": "markdown",
   "id": "4de1a756",
   "metadata": {},
   "source": [
    "For this I create mail_serive.py, reminder.text contain template of the mail that will be send to the user."
   ]
  },
  {
   "cell_type": "markdown",
   "id": "96d676c2",
   "metadata": {},
   "source": [
    "Also created method check_due_payment() method in Database class to get all the user with ongoing loans, their due_amount, their due_date, their email"
   ]
  },
  {
   "cell_type": "markdown",
   "id": "4185124c",
   "metadata": {},
   "source": [
    "Note: I have created one extra table call user_detials which have column -(user_id, user_name, user_email, user_address) with dummy data"
   ]
  },
  {
   "cell_type": "code",
   "execution_count": 1,
   "id": "bee59013",
   "metadata": {},
   "outputs": [],
   "source": [
    "from mail_service import send_payment_reminder"
   ]
  },
  {
   "cell_type": "code",
   "execution_count": 2,
   "id": "01a450eb",
   "metadata": {},
   "outputs": [
    {
     "name": "stdout",
     "output_type": "stream",
     "text": [
      "Login into server: \n",
      "Sending mail:\n",
      "Mail send successful.\n",
      "Mail send successful\n",
      "Login into server: \n",
      "Sending mail:\n",
      "Mail send successful.\n",
      "Mail send successful\n",
      "Login into server: \n",
      "Sending mail:\n",
      "Mail send successful.\n",
      "Mail send successful\n",
      "Login into server: \n",
      "Sending mail:\n",
      "Mail send successful\n"
     ]
    }
   ],
   "source": [
    "send_payment_reminder()"
   ]
  },
  {
   "cell_type": "markdown",
   "id": "d91e8adb",
   "metadata": {},
   "source": [
    "To schedule this we can use `schedule` package from python"
   ]
  },
  {
   "cell_type": "code",
   "execution_count": null,
   "id": "aac97074",
   "metadata": {},
   "outputs": [],
   "source": [
    "schedule.every(2).days.do(send_payment_reminder)\n",
    "while True:\n",
    "        schedule.run_pending()\n",
    "        time.sleep(1)"
   ]
  },
  {
   "cell_type": "markdown",
   "id": "f9e74423",
   "metadata": {},
   "source": [
    "Thid will send on reminder mail to users in every 2 days"
   ]
  },
  {
   "cell_type": "markdown",
   "id": "0a306860",
   "metadata": {},
   "source": [
    "### Create an automated weekly email summarizing operation activities. Define the layout and information included."
   ]
  },
  {
   "cell_type": "markdown",
   "id": "d9fffe5b",
   "metadata": {},
   "source": [
    "Created function called send_summary_report() in mail_service.py. This function will call method of Database class to get the current week status of operation,\n",
    "overall_summary, overall_summary_monthly."
   ]
  },
  {
   "cell_type": "markdown",
   "id": "3007f037",
   "metadata": {},
   "source": [
    "summary.text contain the template for weekly email summarizing operation activities. This mail will also contain two file overall_summary, overall_summary_monthly"
   ]
  },
  {
   "cell_type": "code",
   "execution_count": 5,
   "id": "3605ce8c",
   "metadata": {},
   "outputs": [],
   "source": [
    "from mail_service import send_summary_report"
   ]
  },
  {
   "cell_type": "code",
   "execution_count": 6,
   "id": "ef3e9654",
   "metadata": {},
   "outputs": [
    {
     "name": "stdout",
     "output_type": "stream",
     "text": [
      "Staring to write\n",
      "Data written in excel successfully.\n",
      "Staring to write\n",
      "Data written in excel successfully.\n",
      "Login into server: \n",
      "Sending mail:\n",
      "Weekly report is scheduled\n"
     ]
    }
   ],
   "source": [
    "send_summary_report()"
   ]
  },
  {
   "cell_type": "markdown",
   "id": "52b8083b",
   "metadata": {},
   "source": [
    "Again to schedule it weekly we can use `schedule` library"
   ]
  },
  {
   "cell_type": "code",
   "execution_count": null,
   "id": "d6b44226",
   "metadata": {},
   "outputs": [],
   "source": [
    "schedule.every(7).days.do(send_summary_report)\n",
    "while True:\n",
    "        schedule.run_pending()\n",
    "        time.sleep(1)"
   ]
  },
  {
   "cell_type": "markdown",
   "id": "892e7ee3",
   "metadata": {},
   "source": []
  }
 ],
 "metadata": {
  "kernelspec": {
   "display_name": "Python 3",
   "language": "python",
   "name": "python3"
  },
  "language_info": {
   "codemirror_mode": {
    "name": "ipython",
    "version": 3
   },
   "file_extension": ".py",
   "mimetype": "text/x-python",
   "name": "python",
   "nbconvert_exporter": "python",
   "pygments_lexer": "ipython3",
   "version": "3.8.8"
  }
 },
 "nbformat": 4,
 "nbformat_minor": 5
}
